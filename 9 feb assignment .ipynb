{
 "cells": [
  {
   "cell_type": "markdown",
   "id": "62fc28f9-c247-4894-845c-1ea02695155f",
   "metadata": {},
   "source": [
    "Q1, Create a vehicle class with an init method having instance variables as name_of_vehicle, max_speed\n",
    "and average_of_vehicle."
   ]
  },
  {
   "cell_type": "code",
   "execution_count": 7,
   "id": "3942c1c2-121c-46b1-a0ac-62b1f0c9a4c2",
   "metadata": {},
   "outputs": [],
   "source": [
    "class vehicle:\n",
    "    def __init__(self ,name_of_vehicle  ,max_speed ,  ) :\n",
    "        \n",
    "        self.name_of_vehicle = name_of_vehicle\n",
    "        self.max_speed = max_speed\n",
    "        self. average_of_vehicle = average_of_vehicle\n",
    "    def students_details(self):\n",
    "        print(self.name_of_vehicle , self.max_speed , self. average_of_vehicle )"
   ]
  },
  {
   "cell_type": "code",
   "execution_count": 3,
   "id": "e0992527-b226-49ad-aaf4-23b9d9a5b2bb",
   "metadata": {},
   "outputs": [],
   "source": [
    "vh = vehicle(\"Himalayan\",\"120km/h\",\"60km/h\")"
   ]
  },
  {
   "cell_type": "code",
   "execution_count": 4,
   "id": "eec26f4d-72aa-4d81-b848-f75d3eab53ae",
   "metadata": {},
   "outputs": [
    {
     "data": {
      "text/plain": [
       "'Himalayan'"
      ]
     },
     "execution_count": 4,
     "metadata": {},
     "output_type": "execute_result"
    }
   ],
   "source": [
    "vh. name_of_vehicle"
   ]
  },
  {
   "cell_type": "code",
   "execution_count": 5,
   "id": "1887c05a-cec3-4bdb-85d4-1c7ad11999e8",
   "metadata": {},
   "outputs": [
    {
     "data": {
      "text/plain": [
       "'120km/h'"
      ]
     },
     "execution_count": 5,
     "metadata": {},
     "output_type": "execute_result"
    }
   ],
   "source": [
    "vh.max_speed"
   ]
  },
  {
   "cell_type": "code",
   "execution_count": 6,
   "id": "21a7a200-7ca6-4a08-80fb-38b91c5cec24",
   "metadata": {},
   "outputs": [
    {
     "data": {
      "text/plain": [
       "'60km/h'"
      ]
     },
     "execution_count": 6,
     "metadata": {},
     "output_type": "execute_result"
    }
   ],
   "source": [
    "vh.average_of_vehicle "
   ]
  },
  {
   "cell_type": "markdown",
   "id": "1ac54dba-0b96-4f8d-be64-bae99012fb3f",
   "metadata": {},
   "source": [
    "Q2. Create a child class car from the vehicle class created in Que 1, which will inherit the vehicle class.\n",
    "Create a method named seating_capacity which takes capacity as an argument and returns the name of\n",
    "the vehicle and its seating capacity."
   ]
  },
  {
   "cell_type": "code",
   "execution_count": 18,
   "id": "23abc76e-2d85-4f8b-af71-99d3c5f2a8ad",
   "metadata": {},
   "outputs": [],
   "source": [
    "class child_car:\n",
    "    def __init__(self ,name,seating_capacity   ) :\n",
    "        \n",
    "        self.name = name\n",
    "        self.seating_capacity = seating_capacity\n",
    "\n",
    "    def child_car_details(self):\n",
    "        return(self.name , self.seating_capacity )"
   ]
  },
  {
   "cell_type": "code",
   "execution_count": 12,
   "id": "bfc6be89-94e2-4fca-be2e-7a20fd8aa4c8",
   "metadata": {},
   "outputs": [],
   "source": [
    "child = child_car(\"tokyo\",\"2hrs\")"
   ]
  },
  {
   "cell_type": "code",
   "execution_count": 19,
   "id": "39826c53-a980-41b0-b031-f9611db9d7cb",
   "metadata": {},
   "outputs": [
    {
     "data": {
      "text/plain": [
       "'tokyo'"
      ]
     },
     "execution_count": 19,
     "metadata": {},
     "output_type": "execute_result"
    }
   ],
   "source": [
    "child.name"
   ]
  },
  {
   "cell_type": "code",
   "execution_count": 20,
   "id": "effb7edf-59a7-4a00-9852-1925786ba212",
   "metadata": {},
   "outputs": [
    {
     "data": {
      "text/plain": [
       "'2hrs'"
      ]
     },
     "execution_count": 20,
     "metadata": {},
     "output_type": "execute_result"
    }
   ],
   "source": [
    "child.seating_capacity"
   ]
  },
  {
   "cell_type": "markdown",
   "id": "04815430-8f83-4436-ad5a-d67d70b89358",
   "metadata": {},
   "source": [
    "Q3. What is multiple inheritance? Write a python code to demonstrate multiple inheritance."
   ]
  },
  {
   "cell_type": "markdown",
   "id": "ecf048dc-7498-4fe0-8d44-dea95b67207f",
   "metadata": {},
   "source": [
    "Multiple Inheritance \n",
    "When a class is derived from more than one base class it is called multiple Inheritance. The derived class inherits all the features of the base case.\n",
    " \n",
    "\n",
    "Multiple Inheritance"
   ]
  },
  {
   "cell_type": "code",
   "execution_count": 21,
   "id": "18651be8-e974-4548-9a88-6de03432bfd0",
   "metadata": {},
   "outputs": [
    {
     "name": "stdout",
     "output_type": "stream",
     "text": [
      "In Class2\n"
     ]
    }
   ],
   "source": [
    "# Python Program to depict multiple inheritance\n",
    "# when method is overridden in both classes\n",
    "\n",
    "class Class1:\n",
    "\tdef m(self):\n",
    "\t\tprint(\"In Class1\")\n",
    "\t\n",
    "class Class2(Class1):\n",
    "\tdef m(self):\n",
    "\t\tprint(\"In Class2\")\n",
    "\n",
    "class Class3(Class1):\n",
    "\tdef m(self):\n",
    "\t\tprint(\"In Class3\")\n",
    "\t\t\n",
    "class Class4(Class2, Class3):\n",
    "\tpass\n",
    "\t\n",
    "obj = Class4()\n",
    "obj.m()\n"
   ]
  },
  {
   "cell_type": "markdown",
   "id": "bcd0bd8e-b34e-487e-9845-6ce66cf58727",
   "metadata": {},
   "source": [
    "Q4. What are getter and setter in python? Create a class and create a getter and a setter method in this\n",
    "class."
   ]
  },
  {
   "cell_type": "markdown",
   "id": "da0f5538-835b-4f27-ab6f-642bbc6fb90f",
   "metadata": {},
   "source": [
    "In Python, getters and setters are not the same as those in other object-oriented programming languages. Basically, the main purpose of using getters and setters in object-oriented programs is to ensure data encapsulation. Private variables in python are not actually hidden fields like in other object oriented languages. Getters and Setters in python are often used when:\n",
    "\n",
    "We use getters & setters to add validation logic around getting and setting a value.\n",
    "To avoid direct access of a class field i.e. private variables cannot be accessed directly or modified by external user."
   ]
  },
  {
   "cell_type": "code",
   "execution_count": 22,
   "id": "49f89327-1b55-4aaa-a1bf-ecf0c3b7b58d",
   "metadata": {},
   "outputs": [
    {
     "name": "stdout",
     "output_type": "stream",
     "text": [
      "21\n",
      "21\n"
     ]
    }
   ],
   "source": [
    "# Python program showing a use\n",
    "# of get() and set() method in\n",
    "# normal function\n",
    "\n",
    "class Geek:\n",
    "\tdef __init__(self, age = 0):\n",
    "\t\tself._age = age\n",
    "\t\n",
    "\t# getter method\n",
    "\tdef get_age(self):\n",
    "\t\treturn self._age\n",
    "\t\n",
    "\t# setter method\n",
    "\tdef set_age(self, x):\n",
    "\t\tself._age = x\n",
    "\n",
    "raj = Geek()\n",
    "\n",
    "# setting the age using setter\n",
    "raj.set_age(21)\n",
    "\n",
    "# retrieving age using getter\n",
    "print(raj.get_age())\n",
    "\n",
    "print(raj._age)\n"
   ]
  },
  {
   "cell_type": "markdown",
   "id": "a85b51c3-eaa9-452c-a7ab-c9639ca1b147",
   "metadata": {},
   "source": [
    "Q5.What is method overriding in python? Write a python code to demonstrate method overriding."
   ]
  },
  {
   "cell_type": "markdown",
   "id": "9a59e6f4-0b38-4029-8874-f65958490f93",
   "metadata": {},
   "source": [
    "Method overriding is an ability of any object-oriented programming language that allows a subclass or child class to provide a specific implementation of a method that is already provided by one of its super-classes or parent classes. When a method in a subclass has the same name, same parameters or signature and same return type(or sub-type) as a method in its super-class, then the method in the subclass is said to override the method in the super-class."
   ]
  },
  {
   "cell_type": "code",
   "execution_count": 23,
   "id": "914e04e7-d22c-42c4-8623-2e079d00ed73",
   "metadata": {},
   "outputs": [
    {
     "name": "stdout",
     "output_type": "stream",
     "text": [
      "Inside Parent\n",
      "Inside Child\n"
     ]
    }
   ],
   "source": [
    "# Python program to demonstrate\n",
    "# method overriding\n",
    "\n",
    "\n",
    "# Defining parent class\n",
    "class Parent():\n",
    "\t\n",
    "\t# Constructor\n",
    "\tdef __init__(self):\n",
    "\t\tself.value = \"Inside Parent\"\n",
    "\t\t\n",
    "\t# Parent's show method\n",
    "\tdef show(self):\n",
    "\t\tprint(self.value)\n",
    "\t\t\n",
    "# Defining child class\n",
    "class Child(Parent):\n",
    "\t\n",
    "\t# Constructor\n",
    "\tdef __init__(self):\n",
    "\t\tself.value = \"Inside Child\"\n",
    "\t\t\n",
    "\t# Child's show method\n",
    "\tdef show(self):\n",
    "\t\tprint(self.value)\n",
    "\t\t\n",
    "\t\t\n",
    "# Driver's code\n",
    "obj1 = Parent()\n",
    "obj2 = Child()\n",
    "\n",
    "obj1.show()\n",
    "obj2.show()\n"
   ]
  },
  {
   "cell_type": "code",
   "execution_count": null,
   "id": "b1b623c6-4914-4c79-a866-f073aa39e7e6",
   "metadata": {},
   "outputs": [],
   "source": [
    " "
   ]
  }
 ],
 "metadata": {
  "kernelspec": {
   "display_name": "Python 3 (ipykernel)",
   "language": "python",
   "name": "python3"
  },
  "language_info": {
   "codemirror_mode": {
    "name": "ipython",
    "version": 3
   },
   "file_extension": ".py",
   "mimetype": "text/x-python",
   "name": "python",
   "nbconvert_exporter": "python",
   "pygments_lexer": "ipython3",
   "version": "3.10.8"
  }
 },
 "nbformat": 4,
 "nbformat_minor": 5
}
